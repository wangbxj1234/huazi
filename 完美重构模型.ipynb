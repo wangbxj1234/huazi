{
  "nbformat": 4,
  "nbformat_minor": 0,
  "metadata": {
    "colab": {
      "provenance": [],
      "machine_shape": "hm",
      "gpuType": "L4",
      "mount_file_id": "1AmaoFlee9wPa_caHgRSXDDskZ8Z09Q-v",
      "authorship_tag": "ABX9TyOOIewRdXHUi5v0v85N8JoL",
      "include_colab_link": true
    },
    "kernelspec": {
      "name": "python3",
      "display_name": "Python 3"
    },
    "language_info": {
      "name": "python"
    },
    "accelerator": "GPU"
  },
  "cells": [
    {
      "cell_type": "markdown",
      "metadata": {
        "id": "view-in-github",
        "colab_type": "text"
      },
      "source": [
        "<a href=\"https://colab.research.google.com/github/wangbxj1234/huazi/blob/main/%E5%AE%8C%E7%BE%8E%E9%87%8D%E6%9E%84%E6%A8%A1%E5%9E%8B.ipynb\" target=\"_parent\"><img src=\"https://colab.research.google.com/assets/colab-badge.svg\" alt=\"Open In Colab\"/></a>"
      ]
    },
    {
      "cell_type": "markdown",
      "source": [
        "# 准备"
      ],
      "metadata": {
        "id": "_JKtNQkGNff5"
      }
    },
    {
      "cell_type": "code",
      "source": [
        "!pip install compressai"
      ],
      "metadata": {
        "colab": {
          "base_uri": "https://localhost:8080/"
        },
        "collapsed": true,
        "id": "dIWZTzuTubkP",
        "outputId": "47c4661d-9318-4733-a2ef-fa8620bbe349"
      },
      "execution_count": 1,
      "outputs": [
        {
          "output_type": "stream",
          "name": "stdout",
          "text": [
            "Collecting compressai\n",
            "  Downloading compressai-1.2.6.tar.gz (163 kB)\n",
            "\u001b[?25l     \u001b[90m━━━━━━━━━━━━━━━━━━━━━━━━━━━━━━━━━━━━━━━━\u001b[0m \u001b[32m0.0/163.9 kB\u001b[0m \u001b[31m?\u001b[0m eta \u001b[36m-:--:--\u001b[0m\r\u001b[2K     \u001b[90m━━━━━━━━━━━━━━━━━━━━━━━━━━━━━━━━━━━━━━━━\u001b[0m \u001b[32m163.9/163.9 kB\u001b[0m \u001b[31m12.1 MB/s\u001b[0m eta \u001b[36m0:00:00\u001b[0m\n",
            "\u001b[?25h  Installing build dependencies ... \u001b[?25l\u001b[?25hdone\n",
            "  Getting requirements to build wheel ... \u001b[?25l\u001b[?25hdone\n",
            "  Preparing metadata (pyproject.toml) ... \u001b[?25l\u001b[?25hdone\n",
            "Requirement already satisfied: einops in /usr/local/lib/python3.10/dist-packages (from compressai) (0.8.0)\n",
            "Requirement already satisfied: numpy>=1.21.0 in /usr/local/lib/python3.10/dist-packages (from compressai) (1.26.4)\n",
            "Requirement already satisfied: pandas in /usr/local/lib/python3.10/dist-packages (from compressai) (2.1.4)\n",
            "Requirement already satisfied: scipy in /usr/local/lib/python3.10/dist-packages (from compressai) (1.13.1)\n",
            "Requirement already satisfied: matplotlib in /usr/local/lib/python3.10/dist-packages (from compressai) (3.7.1)\n",
            "Requirement already satisfied: torch>=1.7.1 in /usr/local/lib/python3.10/dist-packages (from compressai) (2.4.1+cu121)\n",
            "Collecting torch-geometric>=2.3.0 (from compressai)\n",
            "  Downloading torch_geometric-2.6.1-py3-none-any.whl.metadata (63 kB)\n",
            "\u001b[2K     \u001b[90m━━━━━━━━━━━━━━━━━━━━━━━━━━━━━━━━━━━━━━━━\u001b[0m \u001b[32m63.1/63.1 kB\u001b[0m \u001b[31m5.2 MB/s\u001b[0m eta \u001b[36m0:00:00\u001b[0m\n",
            "\u001b[?25hRequirement already satisfied: typing-extensions>=4.0.0 in /usr/local/lib/python3.10/dist-packages (from compressai) (4.12.2)\n",
            "Requirement already satisfied: torchvision in /usr/local/lib/python3.10/dist-packages (from compressai) (0.19.1+cu121)\n",
            "Collecting pytorch-msssim (from compressai)\n",
            "  Downloading pytorch_msssim-1.0.0-py3-none-any.whl.metadata (8.0 kB)\n",
            "Requirement already satisfied: tqdm in /usr/local/lib/python3.10/dist-packages (from compressai) (4.66.5)\n",
            "Requirement already satisfied: filelock in /usr/local/lib/python3.10/dist-packages (from torch>=1.7.1->compressai) (3.16.1)\n",
            "Requirement already satisfied: sympy in /usr/local/lib/python3.10/dist-packages (from torch>=1.7.1->compressai) (1.13.3)\n",
            "Requirement already satisfied: networkx in /usr/local/lib/python3.10/dist-packages (from torch>=1.7.1->compressai) (3.3)\n",
            "Requirement already satisfied: jinja2 in /usr/local/lib/python3.10/dist-packages (from torch>=1.7.1->compressai) (3.1.4)\n",
            "Requirement already satisfied: fsspec in /usr/local/lib/python3.10/dist-packages (from torch>=1.7.1->compressai) (2024.6.1)\n",
            "Requirement already satisfied: aiohttp in /usr/local/lib/python3.10/dist-packages (from torch-geometric>=2.3.0->compressai) (3.10.5)\n",
            "Requirement already satisfied: psutil>=5.8.0 in /usr/local/lib/python3.10/dist-packages (from torch-geometric>=2.3.0->compressai) (5.9.5)\n",
            "Requirement already satisfied: pyparsing in /usr/local/lib/python3.10/dist-packages (from torch-geometric>=2.3.0->compressai) (3.1.4)\n",
            "Requirement already satisfied: requests in /usr/local/lib/python3.10/dist-packages (from torch-geometric>=2.3.0->compressai) (2.32.3)\n",
            "Requirement already satisfied: contourpy>=1.0.1 in /usr/local/lib/python3.10/dist-packages (from matplotlib->compressai) (1.3.0)\n",
            "Requirement already satisfied: cycler>=0.10 in /usr/local/lib/python3.10/dist-packages (from matplotlib->compressai) (0.12.1)\n",
            "Requirement already satisfied: fonttools>=4.22.0 in /usr/local/lib/python3.10/dist-packages (from matplotlib->compressai) (4.53.1)\n",
            "Requirement already satisfied: kiwisolver>=1.0.1 in /usr/local/lib/python3.10/dist-packages (from matplotlib->compressai) (1.4.7)\n",
            "Requirement already satisfied: packaging>=20.0 in /usr/local/lib/python3.10/dist-packages (from matplotlib->compressai) (24.1)\n",
            "Requirement already satisfied: pillow>=6.2.0 in /usr/local/lib/python3.10/dist-packages (from matplotlib->compressai) (10.4.0)\n",
            "Requirement already satisfied: python-dateutil>=2.7 in /usr/local/lib/python3.10/dist-packages (from matplotlib->compressai) (2.8.2)\n",
            "Requirement already satisfied: pytz>=2020.1 in /usr/local/lib/python3.10/dist-packages (from pandas->compressai) (2024.2)\n",
            "Requirement already satisfied: tzdata>=2022.1 in /usr/local/lib/python3.10/dist-packages (from pandas->compressai) (2024.1)\n",
            "Requirement already satisfied: six>=1.5 in /usr/local/lib/python3.10/dist-packages (from python-dateutil>=2.7->matplotlib->compressai) (1.16.0)\n",
            "Requirement already satisfied: aiohappyeyeballs>=2.3.0 in /usr/local/lib/python3.10/dist-packages (from aiohttp->torch-geometric>=2.3.0->compressai) (2.4.0)\n",
            "Requirement already satisfied: aiosignal>=1.1.2 in /usr/local/lib/python3.10/dist-packages (from aiohttp->torch-geometric>=2.3.0->compressai) (1.3.1)\n",
            "Requirement already satisfied: attrs>=17.3.0 in /usr/local/lib/python3.10/dist-packages (from aiohttp->torch-geometric>=2.3.0->compressai) (24.2.0)\n",
            "Requirement already satisfied: frozenlist>=1.1.1 in /usr/local/lib/python3.10/dist-packages (from aiohttp->torch-geometric>=2.3.0->compressai) (1.4.1)\n",
            "Requirement already satisfied: multidict<7.0,>=4.5 in /usr/local/lib/python3.10/dist-packages (from aiohttp->torch-geometric>=2.3.0->compressai) (6.1.0)\n",
            "Requirement already satisfied: yarl<2.0,>=1.0 in /usr/local/lib/python3.10/dist-packages (from aiohttp->torch-geometric>=2.3.0->compressai) (1.11.1)\n",
            "Requirement already satisfied: async-timeout<5.0,>=4.0 in /usr/local/lib/python3.10/dist-packages (from aiohttp->torch-geometric>=2.3.0->compressai) (4.0.3)\n",
            "Requirement already satisfied: MarkupSafe>=2.0 in /usr/local/lib/python3.10/dist-packages (from jinja2->torch>=1.7.1->compressai) (2.1.5)\n",
            "Requirement already satisfied: charset-normalizer<4,>=2 in /usr/local/lib/python3.10/dist-packages (from requests->torch-geometric>=2.3.0->compressai) (3.3.2)\n",
            "Requirement already satisfied: idna<4,>=2.5 in /usr/local/lib/python3.10/dist-packages (from requests->torch-geometric>=2.3.0->compressai) (3.10)\n",
            "Requirement already satisfied: urllib3<3,>=1.21.1 in /usr/local/lib/python3.10/dist-packages (from requests->torch-geometric>=2.3.0->compressai) (2.2.3)\n",
            "Requirement already satisfied: certifi>=2017.4.17 in /usr/local/lib/python3.10/dist-packages (from requests->torch-geometric>=2.3.0->compressai) (2024.8.30)\n",
            "Requirement already satisfied: mpmath<1.4,>=1.1.0 in /usr/local/lib/python3.10/dist-packages (from sympy->torch>=1.7.1->compressai) (1.3.0)\n",
            "Downloading torch_geometric-2.6.1-py3-none-any.whl (1.1 MB)\n",
            "\u001b[2K   \u001b[90m━━━━━━━━━━━━━━━━━━━━━━━━━━━━━━━━━━━━━━━━\u001b[0m \u001b[32m1.1/1.1 MB\u001b[0m \u001b[31m1.6 MB/s\u001b[0m eta \u001b[36m0:00:00\u001b[0m\n",
            "\u001b[?25hDownloading pytorch_msssim-1.0.0-py3-none-any.whl (7.7 kB)\n",
            "Building wheels for collected packages: compressai\n",
            "  Building wheel for compressai (pyproject.toml) ... \u001b[?25l\u001b[?25hdone\n",
            "  Created wheel for compressai: filename=compressai-1.2.6-cp310-cp310-linux_x86_64.whl size=405685 sha256=c07661e3e8fba98e3722910b80488b887157a2c03805aff24f42fa0d3166acf2\n",
            "  Stored in directory: /root/.cache/pip/wheels/b3/e1/85/87edc5d40a531877f35ba1cfc8f66e2e76d49d4845f57c0f46\n",
            "Successfully built compressai\n",
            "Installing collected packages: pytorch-msssim, torch-geometric, compressai\n",
            "Successfully installed compressai-1.2.6 pytorch-msssim-1.0.0 torch-geometric-2.6.1\n"
          ]
        }
      ]
    },
    {
      "cell_type": "code",
      "source": [
        "import math\n",
        "import torch\n",
        "import torch.nn as nn\n",
        "from torch import Tensor\n",
        "\n",
        "#from compressai.ops import ste_round\n",
        "from compressai.models.utils import conv, deconv\n",
        "\n",
        "import torchvision.transforms as transforms\n",
        "import torchvision.datasets as datasets\n",
        "import matplotlib.pyplot as plt\n",
        "import torch.optim as optim\n",
        "from torch.utils.data import DataLoader"
      ],
      "metadata": {
        "colab": {
          "base_uri": "https://localhost:8080/"
        },
        "id": "LITmOF-pWkXI",
        "outputId": "4f725f53-e348-40e4-a15e-c73ce40656d8"
      },
      "execution_count": 2,
      "outputs": [
        {
          "output_type": "stream",
          "name": "stderr",
          "text": [
            "/usr/local/lib/python3.10/dist-packages/compressai/models/video/google.py:353: FutureWarning: `torch.cuda.amp.autocast(args...)` is deprecated. Please use `torch.amp.autocast('cuda', args...)` instead.\n",
            "  @amp.autocast(enabled=False)\n"
          ]
        }
      ]
    },
    {
      "cell_type": "code",
      "source": [
        "def conv3x3(in_ch: int, out_ch: int, stride: int = 1) -> nn.Module:\n",
        "    \"\"\"3x3 convolution with padding.\"\"\"\n",
        "    return nn.Conv2d(in_ch, out_ch, kernel_size=3, stride=stride, padding=1)\n",
        "\n",
        "def conv1x1(in_ch: int, out_ch: int, stride: int = 1) -> nn.Module:\n",
        "    \"\"\"1x1 convolution.\"\"\"\n",
        "    return nn.Conv2d(in_ch, out_ch, kernel_size=1, stride=stride)"
      ],
      "metadata": {
        "id": "4v6dKdLZW-v4"
      },
      "execution_count": 3,
      "outputs": []
    },
    {
      "cell_type": "code",
      "source": [
        "class AttentionBlock(nn.Module):\n",
        "    \"\"\"Self attention block.\n",
        "\n",
        "    Simplified variant from `\"Learned Image Compression with\n",
        "    Discretized Gaussian Mixture Likelihoods and Attention Modules\"\n",
        "    <https://arxiv.org/abs/2001.01568>`_, by Zhengxue Cheng, Heming Sun, Masaru\n",
        "    Takeuchi, Jiro Katto.\n",
        "\n",
        "    Args:\n",
        "        N (int): Number of channels)\n",
        "    \"\"\"\n",
        "\n",
        "    def __init__(self, N: int):\n",
        "        super().__init__()\n",
        "\n",
        "        class ResidualUnit(nn.Module):\n",
        "            \"\"\"Simple residual unit.\"\"\"\n",
        "\n",
        "            def __init__(self):\n",
        "                super().__init__()\n",
        "                self.conv = nn.Sequential(\n",
        "                    conv1x1(N, N // 2),\n",
        "                    nn.ReLU(inplace=True),\n",
        "                    conv3x3(N // 2, N // 2),\n",
        "                    nn.ReLU(inplace=True),\n",
        "                    conv1x1(N // 2, N),\n",
        "                )\n",
        "                self.relu = nn.ReLU(inplace=True)\n",
        "\n",
        "            def forward(self, x: Tensor) -> Tensor:\n",
        "                identity = x\n",
        "                out = self.conv(x)\n",
        "                out += identity\n",
        "                out = self.relu(out)\n",
        "                return out\n",
        "\n",
        "        self.conv_a = nn.Sequential(ResidualUnit(), ResidualUnit(), ResidualUnit())\n",
        "\n",
        "        self.conv_b = nn.Sequential(\n",
        "            ResidualUnit(),\n",
        "            ResidualUnit(),\n",
        "            ResidualUnit(),\n",
        "            conv1x1(N, N),\n",
        "        )\n",
        "\n",
        "    def forward(self, x: Tensor) -> Tensor:\n",
        "        identity = x\n",
        "        a = self.conv_a(x)\n",
        "        b = self.conv_b(x)\n",
        "        out = a * torch.sigmoid(b)\n",
        "        out += identity\n",
        "        return out"
      ],
      "metadata": {
        "id": "_fri1lXuW5-n"
      },
      "execution_count": 4,
      "outputs": []
    },
    {
      "cell_type": "code",
      "source": [
        "x=torch.rand(1,3,256,256)\n",
        "c=conv(3,64)\n",
        "y=c(x)\n",
        "y.shape"
      ],
      "metadata": {
        "colab": {
          "base_uri": "https://localhost:8080/"
        },
        "id": "OFM-bGZwwd-k",
        "outputId": "97fae02b-e707-48a7-d473-ae22a1b8a705"
      },
      "execution_count": 5,
      "outputs": [
        {
          "output_type": "execute_result",
          "data": {
            "text/plain": [
              "torch.Size([1, 64, 128, 128])"
            ]
          },
          "metadata": {},
          "execution_count": 5
        }
      ]
    },
    {
      "cell_type": "code",
      "source": [
        "a=AttentionBlock(3)\n",
        "y=a(x)\n",
        "y.shape"
      ],
      "metadata": {
        "colab": {
          "base_uri": "https://localhost:8080/"
        },
        "id": "P3JZt8-G706H",
        "outputId": "82285a2a-c520-4d13-fa54-77c3e2da25bb"
      },
      "execution_count": 6,
      "outputs": [
        {
          "output_type": "execute_result",
          "data": {
            "text/plain": [
              "torch.Size([1, 3, 256, 256])"
            ]
          },
          "metadata": {},
          "execution_count": 6
        }
      ]
    },
    {
      "cell_type": "code",
      "source": [
        "import torch\n",
        "import torch.nn as nn\n",
        "import torchvision.transforms as transforms\n",
        "from PIL import Image\n",
        "\n",
        "import time\n",
        "\n",
        "\n",
        "from torch import Tensor\n",
        "\n",
        "\n",
        "class ResidualBottleneckBlock(nn.Module):\n",
        "    \"\"\"Simple residual block with two 3x3 convolutions.\n",
        "\n",
        "    Args:\n",
        "        in_ch (int): number of input channels\n",
        "        out_ch (int): number of output channels\n",
        "    \"\"\"\n",
        "\n",
        "    def __init__(self, in_ch: int):\n",
        "        super().__init__()\n",
        "        self.conv1 = conv1x1(in_ch, in_ch//2)\n",
        "        self.relu = nn.ReLU(inplace=True)\n",
        "        self.conv2 = conv3x3(in_ch//2, in_ch//2)\n",
        "        self.relu2 = nn.ReLU(inplace=True)\n",
        "        self.conv3 = conv1x1(in_ch//2, in_ch)\n",
        "\n",
        "    def forward(self, x: Tensor) -> Tensor:\n",
        "        identity = x\n",
        "\n",
        "        out = self.conv1(x)\n",
        "        out = self.relu(out)\n",
        "        out = self.conv2(out)\n",
        "        out = self.relu2(out)\n",
        "        out = self.conv3(out)\n",
        "\n",
        "        out = out + identity\n",
        "        return out\n",
        "\n",
        "\n",
        "# 定义图像压缩网络\n",
        "class ImageCompressionNetwork(nn.Module):\n",
        "    def __init__(self, N, M):\n",
        "        super(ImageCompressionNetwork, self).__init__()\n",
        "\n",
        "        self.g_a = nn.Sequential(\n",
        "            conv(3, N),  # Module 1\n",
        "            ResidualBottleneckBlock(N),  # Module 2\n",
        "            ResidualBottleneckBlock(N),  # Module 3\n",
        "            ResidualBottleneckBlock(N),  # Module 4\n",
        "            conv(N, N),  # Module 5\n",
        "            ResidualBottleneckBlock(N),  # Module 6\n",
        "            ResidualBottleneckBlock(N),  # Module 7\n",
        "            ResidualBottleneckBlock(N),  # Module 8\n",
        "            AttentionBlock(N),  # Module 9\n",
        "            conv(N, N),  # Module 10\n",
        "            ResidualBottleneckBlock(N),  # Module 11\n",
        "            ResidualBottleneckBlock(N),  # Module 12\n",
        "            ResidualBottleneckBlock(N),  # Module 13\n",
        "            conv(N, M),  # Module 14\n",
        "            AttentionBlock(M),  # Module 15\n",
        "        )\n",
        "\n",
        "    def forward(self, x):\n",
        "        module1 = self.g_a[0](x)  # Output of Module 1\n",
        "        module1_output = module1.clone()\n",
        "\n",
        "        y2 = self.g_a[1](module1)  # Module 2\n",
        "        y2 = self.g_a[2](y2)  # Module 3\n",
        "        y2 = self.g_a[3](y2)  # Module 4\n",
        "        module5 = self.g_a[4](y2)  # Output of Module 5\n",
        "        module5_output = module5.clone()\n",
        "\n",
        "        y3 = self.g_a[5](module5)  # Module 6\n",
        "        y3 = self.g_a[6](y3)  # Module 7\n",
        "        y3 = self.g_a[7](y3)  # Module 8\n",
        "        y4 = self.g_a[8](y3)  # Module 9 (AttentionBlock)\n",
        "\n",
        "        module10 = self.g_a[9](y4)  # Output of Module 10\n",
        "        module10_output = module10.clone()\n",
        "\n",
        "        y5 = self.g_a[10](module10)  # Module 11\n",
        "        y5 = self.g_a[11](y5)  # Module 12\n",
        "        y5 = self.g_a[12](y5)  # Module 13\n",
        "        module14 = self.g_a[13](y5)  # Output of Module 14\n",
        "        module14_output = module14.clone()\n",
        "\n",
        "        final_output = self.g_a[14](module14)  # Final output after AttentionBlock\n",
        "\n",
        "        return module1_output, module5_output, module10_output, module14_output, final_output\n",
        "\n",
        "def save_image(tensor, filename):\n",
        "    # Convert tensor to PIL image and save\n",
        "    img = transforms.ToPILImage()(tensor.cpu().detach())\n",
        "    img.save(filename)\n",
        "\n",
        "# Example usage\n",
        "if __name__ == \"__main__\":\n",
        "    # Initialize the model\n",
        "    model = ImageCompressionNetwork(N=64, M=32)\n",
        "\n",
        "    # Create a dummy input image\n",
        "    input_image = torch.rand((1, 3, 256, 256))  # Batch size of 1, 3 channels, 256x256\n",
        "\n",
        "    # Forward pass\n",
        "    module1, module5, module10, module14, final_output = model(input_image)\n",
        "    print(module1.shape)\n",
        "    print(module5.shape)\n",
        "    print(module10.shape)\n",
        "    print(module14.shape)\n",
        "    print(final_output.shape)\n",
        "    # Save the outputs\n",
        "    # save_image(module1[0], 'output_module1.png')\n",
        "    # save_image(module5[0], 'output_module5.png')\n",
        "    # save_image(module10[0], 'output_module10.png')\n",
        "    # save_image(module14[0], 'output_module14.png')\n",
        "    # save_image(final_output[0], 'final_output.png')\n"
      ],
      "metadata": {
        "colab": {
          "base_uri": "https://localhost:8080/"
        },
        "id": "UZQYyTvDaSOW",
        "outputId": "69df56c1-43c0-46a7-cce2-0a623e44c974"
      },
      "execution_count": 7,
      "outputs": [
        {
          "output_type": "stream",
          "name": "stdout",
          "text": [
            "torch.Size([1, 64, 128, 128])\n",
            "torch.Size([1, 64, 64, 64])\n",
            "torch.Size([1, 64, 32, 32])\n",
            "torch.Size([1, 32, 16, 16])\n",
            "torch.Size([1, 32, 16, 16])\n"
          ]
        }
      ]
    },
    {
      "cell_type": "code",
      "source": [
        "import torch.nn as nn\n",
        "from compressai.layers import AttentionBlock\n",
        "\n",
        "def deconv(in_channels, out_channels, kernel_size=5, stride=2):\n",
        "    return nn.ConvTranspose2d(\n",
        "        in_channels,\n",
        "        out_channels,\n",
        "        kernel_size=kernel_size,\n",
        "        stride=stride,\n",
        "        output_padding=stride - 1,\n",
        "        padding=kernel_size // 2,\n",
        "    )\n",
        "\n",
        "class ResidualBottleneck(nn.Module):\n",
        "    def __init__(self, N=192, act=nn.ReLU) -> None:\n",
        "        super().__init__()\n",
        "        self.branch = nn.Sequential(\n",
        "            conv1x1(N, N // 2),\n",
        "            act(),\n",
        "            nn.Conv2d(N // 2, N // 2, kernel_size=3, stride=1, padding=1),\n",
        "            act(),\n",
        "            conv1x1(N // 2, N)\n",
        "        )\n",
        "\n",
        "    def forward(self, x):\n",
        "        out = x + self.branch(x)\n",
        "\n",
        "        return out\n",
        "\n",
        "\n",
        "class SynthesisTransformEX(nn.Module):\n",
        "    def __init__(self, N, M, act=nn.ReLU) -> None:\n",
        "        super().__init__()\n",
        "        self.synthesis_transform = nn.Sequential(\n",
        "            AttentionBlock(M),\n",
        "            deconv(M, N),\n",
        "            # injector 들어갈 구간\n",
        "            ResidualBottleneck(N, act=act),\n",
        "            ResidualBottleneck(N, act=act),\n",
        "            ResidualBottleneck(N, act=act),\n",
        "            deconv(N, N),\n",
        "            AttentionBlock(N),\n",
        "            # extractor 들어갈 구간\n",
        "            # injector 들어갈 구간\n",
        "            ResidualBottleneck(N, act=act),\n",
        "            ResidualBottleneck(N, act=act),\n",
        "            ResidualBottleneck(N, act=act),\n",
        "            deconv(N, N),\n",
        "            ResidualBottleneck(N, act=act),\n",
        "            ResidualBottleneck(N, act=act),\n",
        "            ResidualBottleneck(N, act=act),\n",
        "            deconv(N, 3)\n",
        "        )\n",
        "\n",
        "    def forward(self, x):\n",
        "        x = self.synthesis_transform(x)\n",
        "        return x\n",
        "\n",
        "#g_s = SynthesisTransformEX(N, M, act=nn.ReLU)"
      ],
      "metadata": {
        "id": "bEdEFz5P7ieX"
      },
      "execution_count": 8,
      "outputs": []
    },
    {
      "cell_type": "markdown",
      "source": [
        "# 完整压缩模型的定义和训练"
      ],
      "metadata": {
        "id": "J5uMpvxcNrlo"
      }
    },
    {
      "cell_type": "code",
      "source": [
        "\n",
        "# 定义完整图像压缩网络\n",
        "class ImageCompressionNetwork1(nn.Module):\n",
        "    def __init__(self, N, M):\n",
        "        super(ImageCompressionNetwork1, self).__init__()\n",
        "\n",
        "        self.g_a = nn.Sequential(\n",
        "            conv(3, N),  # Module 1\n",
        "            ResidualBottleneckBlock(N),  # Module 2\n",
        "            ResidualBottleneckBlock(N),  # Module 3\n",
        "            ResidualBottleneckBlock(N),  # Module 4\n",
        "            conv(N, N),  # Module 5\n",
        "            ResidualBottleneckBlock(N),  # Module 6\n",
        "            ResidualBottleneckBlock(N),  # Module 7\n",
        "            ResidualBottleneckBlock(N),  # Module 8\n",
        "            AttentionBlock(N),  # Module 9\n",
        "            conv(N, N),  # Module 10\n",
        "            ResidualBottleneckBlock(N),  # Module 11\n",
        "            ResidualBottleneckBlock(N),  # Module 12\n",
        "            ResidualBottleneckBlock(N),  # Module 13\n",
        "            conv(N, M),  # Module 14\n",
        "            AttentionBlock(M),  # Module 15\n",
        "        )\n",
        "        self.g_s = SynthesisTransformEX(N, M, act=nn.ReLU)\n",
        "\n",
        "    def forward(self, x):\n",
        "        y=self.g_a(x)\n",
        "        x_hat=self.g_s(y)\n",
        "        return x_hat\n",
        "\n"
      ],
      "metadata": {
        "id": "j4Wd9iuQ8T_m"
      },
      "execution_count": 9,
      "outputs": []
    },
    {
      "cell_type": "code",
      "source": [
        "\n",
        "\n",
        "# Assuming your ImageCompressionNetwork1 is already defined as above\n",
        "\n",
        "# Load CIFAR-10\n",
        "transform = transforms.Compose([\n",
        "    transforms.ToTensor(),\n",
        "])\n",
        "cifar10 = datasets.CIFAR10(root='./data', train=True, download=True, transform=transform)\n",
        "loader = torch.utils.data.DataLoader(cifar10, batch_size=1, shuffle=True)\n",
        "\n",
        "# Instantiate model\n",
        "model = ImageCompressionNetwork1(N=192, M=320)\n",
        "\n",
        "\n",
        "\n"
      ],
      "metadata": {
        "colab": {
          "base_uri": "https://localhost:8080/"
        },
        "id": "11sJbqKhEZED",
        "outputId": "e4a93620-6ad8-466e-abe2-02484c441767"
      },
      "execution_count": 10,
      "outputs": [
        {
          "output_type": "stream",
          "name": "stdout",
          "text": [
            "Downloading https://www.cs.toronto.edu/~kriz/cifar-10-python.tar.gz to ./data/cifar-10-python.tar.gz\n"
          ]
        },
        {
          "output_type": "stream",
          "name": "stderr",
          "text": [
            "100%|██████████| 170498071/170498071 [00:12<00:00, 13347520.65it/s]\n"
          ]
        },
        {
          "output_type": "stream",
          "name": "stdout",
          "text": [
            "Extracting ./data/cifar-10-python.tar.gz to ./data\n"
          ]
        }
      ]
    },
    {
      "cell_type": "code",
      "source": [
        "\n",
        "\n",
        "\n",
        "# Assuming your ImageCompressionNetwork1 class is defined here\n",
        "\n",
        "# Hyperparameters\n",
        "N = 192  # Number of channels for the network\n",
        "M = 320  # Output channels\n",
        "num_epochs = 10  # Number of training epochs\n",
        "learning_rate = 0.0001\n",
        "batch_size = 64\n",
        "\n",
        "# Load CIFAR-10 dataset\n",
        "transform = transforms.Compose([\n",
        "    transforms.ToTensor(),\n",
        "])\n",
        "cifar10 = datasets.CIFAR10(root='./data', train=True, download=True, transform=transform)\n",
        "loader = DataLoader(cifar10, batch_size=batch_size, shuffle=True)\n",
        "\n",
        "# Instantiate model\n",
        "model = ImageCompressionNetwork1(N=N, M=M)\n",
        "model.train()  # Set to training mode\n",
        "\n",
        "# Define loss and optimizer\n",
        "criterion = nn.MSELoss()\n",
        "optimizer = optim.Adam(model.parameters(), lr=learning_rate)\n",
        "\n",
        "# Training loop\n",
        "for epoch in range(num_epochs):\n",
        "    for images, _ in loader:\n",
        "        optimizer.zero_grad()  # Zero the gradients\n",
        "        outputs = model(images)  # Forward pass\n",
        "        loss = criterion(outputs, images)  # Compute loss\n",
        "        loss.backward()  # Backward pass\n",
        "        optimizer.step()  # Update weights\n",
        "\n",
        "    print(f'Epoch [{epoch+1}/{num_epochs}], Loss: {loss.item():.4f}')\n",
        "\n",
        "\n"
      ],
      "metadata": {
        "colab": {
          "base_uri": "https://localhost:8080/"
        },
        "id": "sPAiz4R4Ej9r",
        "outputId": "118e2f08-a785-4e8b-d139-8cd2dbb7f642"
      },
      "execution_count": 24,
      "outputs": [
        {
          "output_type": "stream",
          "name": "stdout",
          "text": [
            "Files already downloaded and verified\n",
            "Epoch [1/10], Loss: 0.0051\n",
            "Epoch [2/10], Loss: 0.0041\n",
            "Epoch [3/10], Loss: 0.0040\n",
            "Epoch [4/10], Loss: 0.0019\n",
            "Epoch [5/10], Loss: 0.0019\n",
            "Epoch [6/10], Loss: 0.0016\n",
            "Epoch [7/10], Loss: 0.0012\n",
            "Epoch [8/10], Loss: 0.0010\n",
            "Epoch [9/10], Loss: 0.0008\n",
            "Epoch [10/10], Loss: 0.0009\n"
          ]
        }
      ]
    },
    {
      "cell_type": "code",
      "source": [
        "# Evaluate the model\n",
        "model.eval()  # Set to evaluation mode\n",
        "data_iter = iter(loader)\n",
        "image, _ = next(data_iter)\n",
        "\n",
        "# Forward pass for reconstruction\n",
        "with torch.no_grad():\n",
        "    reconstructed_image = model(image)\n",
        "\n",
        "# Visualize original and reconstructed images\n",
        "plt.subplot(1, 2, 1)\n",
        "# 修改此行\n",
        "plt.imshow(image[0].permute(1, 2, 0).numpy())\n",
        "plt.title('Original Image')\n",
        "\n",
        "plt.subplot(1, 2, 2)\n",
        "plt.imshow(reconstructed_image[0].squeeze().permute(1, 2, 0).numpy())\n",
        "plt.title('Reconstructed Image')\n",
        "\n",
        "plt.show()"
      ],
      "metadata": {
        "colab": {
          "base_uri": "https://localhost:8080/",
          "height": 326
        },
        "id": "rgCPY8Ifgazt",
        "outputId": "b4a5da2a-d706-4d11-d11d-f3fe6be4999d"
      },
      "execution_count": 29,
      "outputs": [
        {
          "output_type": "stream",
          "name": "stderr",
          "text": [
            "WARNING:matplotlib.image:Clipping input data to the valid range for imshow with RGB data ([0..1] for floats or [0..255] for integers).\n"
          ]
        },
        {
          "output_type": "display_data",
          "data": {
            "text/plain": [
              "<Figure size 640x480 with 2 Axes>"
            ],
            "image/png": "[encoded data removed]"
          },
          "metadata": {}
        }
      ]
    },
    {
      "cell_type": "markdown",
      "source": [
        "#  13，然后搞搞的效果不好"
      ],
      "metadata": {
        "id": "l5fqE0WYNwd1"
      }
    },
    {
      "cell_type": "code",
      "source": [
        "\n",
        "\n",
        "# 定义完整图像压缩网络\n",
        "class ImageCompressionNetwork1(nn.Module):\n",
        "    def __init__(self, N, M):\n",
        "        super(ImageCompressionNetwork1, self).__init__()\n",
        "        act=nn.ReLU\n",
        "        self.attention=AttentionBlock(M)\n",
        "        self.g_a = nn.Sequential(\n",
        "            conv(3, N),  # Module 1\n",
        "            ResidualBottleneckBlock(N),  # Module 2\n",
        "            ResidualBottleneckBlock(N),  # Module 3\n",
        "            ResidualBottleneckBlock(N),  # Module 4\n",
        "            conv(N, N),  # Module 5\n",
        "            ResidualBottleneckBlock(N),  # Module 6\n",
        "            ResidualBottleneckBlock(N),  # Module 7\n",
        "            ResidualBottleneckBlock(N),  # Module 8\n",
        "            AttentionBlock(N),  # Module 9\n",
        "            conv(N, N),  # Module 10\n",
        "            ResidualBottleneckBlock(N),  # Module 11\n",
        "            ResidualBottleneckBlock(N),  # Module 12\n",
        "            ResidualBottleneckBlock(N),  # Module 13\n",
        "            conv(N, M),  # Module 14\n",
        "            AttentionBlock(M),  # Module 15\n",
        "        )\n",
        "        self.g_s = nn.Sequential(\n",
        "            AttentionBlock(M),\n",
        "            deconv(M, N),\n",
        "            # injector 들어갈 구간\n",
        "            ResidualBottleneck(N, act=act),\n",
        "            ResidualBottleneck(N, act=act),\n",
        "            ResidualBottleneck(N, act=act),\n",
        "            deconv(N, N),\n",
        "            AttentionBlock(N),\n",
        "            # extractor 들어갈 구간\n",
        "            # injector 들어갈 구간\n",
        "            ResidualBottleneck(N, act=act),\n",
        "            ResidualBottleneck(N, act=act),\n",
        "            ResidualBottleneck(N, act=act),\n",
        "            deconv(N, N),\n",
        "            ResidualBottleneck(N, act=act),\n",
        "            ResidualBottleneck(N, act=act),\n",
        "            ResidualBottleneck(N, act=act),\n",
        "            deconv(N, 13),\n",
        "            AttentionBlock(13),\n",
        "            nn.Conv2d(13, 3, kernel_size=1)\n",
        "        )\n",
        "\n",
        "    def forward(self, x):\n",
        "        y=self.g_a(x)\n",
        "        x_hat=self.g_s(y)\n",
        "        return x_hat\n",
        "    # def forward(self, x):\n",
        "    # # 计算左上1/4区域的尺寸\n",
        "    # h, w = x.size(2), x.size(3)\n",
        "    # quarter_h, quarter_w = h // 4, w // 4\n",
        "\n",
        "    # # 提取左上1/4区域\n",
        "    # left_top_quarter = x[:, :, :quarter_h, :quarter_w]\n",
        "\n",
        "    # # 转换左上1/4区域为灰度图像\n",
        "    # gray_quarter = left_top_quarter.mean(dim=1, keepdim=True)  # 生成单通道\n",
        "\n",
        "    # # 复制到3通道，形成灰度图像\n",
        "    # gray_quarter = gray_quarter.repeat(1, 3, 1, 1)  # 变为3通道\n",
        "\n",
        "    # # 创建一个与x相同大小的零矩阵\n",
        "    # black_white_image = torch.zeros_like(x)\n",
        "\n",
        "    # # 将灰度区域放回到相应的位置\n",
        "    # black_white_image[:, :, :quarter_h, :quarter_w] = gray_quarter\n",
        "\n",
        "    # # 融合 x_hat 和黑白图像\n",
        "    # y = self.g_a(x)\n",
        "    # x_hat = self.g_s(y)\n",
        "    # fused_output = torch.cat(x_hat,black_white_image,dim=1)  #\n",
        "\n",
        "    # # 继续经过网络\n",
        "    # final_output = self.g_s(fused_output)\n",
        "    # return final_output\n",
        "\n",
        "\n",
        "\n",
        "# Assuming your ImageCompressionNetwork1 is already defined as above\n",
        "\n",
        "# Load CIFAR-10\n",
        "transform = transforms.Compose([\n",
        "    transforms.ToTensor(),\n",
        "])\n",
        "cifar10 = datasets.CIFAR10(root='./data', train=True, download=True, transform=transform)\n",
        "loader = torch.utils.data.DataLoader(cifar10, batch_size=1, shuffle=True)\n",
        "\n",
        "# Instantiate model\n",
        "model = ImageCompressionNetwork1(N=192, M=320)\n",
        "\n",
        "\n",
        "\n",
        "\n",
        "\n",
        "\n",
        "# Assuming your ImageCompressionNetwork1 class is defined here\n",
        "\n",
        "# Hyperparameters\n",
        "N = 192  # Number of channels for the network\n",
        "M = 320  # Output channels\n",
        "num_epochs = 10  # Number of training epochs\n",
        "learning_rate = 0.0001\n",
        "batch_size = 64\n",
        "\n",
        "# Load CIFAR-10 dataset\n",
        "transform = transforms.Compose([\n",
        "    transforms.ToTensor(),\n",
        "])\n",
        "cifar10 = datasets.CIFAR10(root='./data', train=True, download=True, transform=transform)\n",
        "loader = DataLoader(cifar10, batch_size=batch_size, shuffle=True)\n",
        "\n",
        "# Instantiate model\n",
        "model = ImageCompressionNetwork1(N=N, M=M)\n",
        "model.train()  # Set to training mode\n",
        "\n",
        "# Define loss and optimizer\n",
        "criterion = nn.MSELoss()\n",
        "optimizer = optim.Adam(model.parameters(), lr=learning_rate)\n",
        "\n",
        "# Training loop\n",
        "for epoch in range(num_epochs):\n",
        "    for images, _ in loader:\n",
        "        optimizer.zero_grad()  # Zero the gradients\n",
        "        outputs = model(images)  # Forward pass\n",
        "        loss = criterion(outputs, images)  # Compute loss\n",
        "        loss.backward()  # Backward pass\n",
        "        optimizer.step()  # Update weights\n",
        "\n",
        "    print(f'Epoch [{epoch+1}/{num_epochs}], Loss: {loss.item():.4f}')\n",
        "\n",
        "\n"
      ],
      "metadata": {
        "colab": {
          "base_uri": "https://localhost:8080/"
        },
        "id": "ehRsHixBOAtr",
        "outputId": "87ba1bba-4a01-4910-aafe-b89ba8f6623a"
      },
      "execution_count": 13,
      "outputs": [
        {
          "output_type": "stream",
          "name": "stdout",
          "text": [
            "Files already downloaded and verified\n",
            "Files already downloaded and verified\n",
            "Epoch [1/10], Loss: 0.0091\n",
            "Epoch [2/10], Loss: 0.0059\n",
            "Epoch [3/10], Loss: 0.0040\n",
            "Epoch [4/10], Loss: 0.0029\n",
            "Epoch [5/10], Loss: 0.0031\n",
            "Epoch [6/10], Loss: 0.0018\n",
            "Epoch [7/10], Loss: 0.0020\n",
            "Epoch [8/10], Loss: 0.0014\n",
            "Epoch [9/10], Loss: 0.0010\n",
            "Epoch [10/10], Loss: 0.0012\n"
          ]
        }
      ]
    },
    {
      "cell_type": "code",
      "source": [
        "# Evaluate the model\n",
        "model.eval()  # Set to evaluation mode\n",
        "data_iter = iter(loader)\n",
        "image, _ = next(data_iter)\n",
        "\n",
        "# Forward pass for reconstruction\n",
        "with torch.no_grad():\n",
        "    reconstructed_image = model(image)\n",
        "\n",
        "# Visualize original and reconstructed images\n",
        "plt.subplot(1, 2, 1)\n",
        "# 修改此行\n",
        "plt.imshow(image[0].permute(1, 2, 0).numpy())\n",
        "plt.title('Original Image')\n",
        "\n",
        "plt.subplot(1, 2, 2)\n",
        "plt.imshow(reconstructed_image[0].squeeze().permute(1, 2, 0).numpy())\n",
        "plt.title('Reconstructed Image')\n",
        "\n",
        "plt.show()"
      ],
      "metadata": {
        "colab": {
          "base_uri": "https://localhost:8080/",
          "height": 308
        },
        "id": "5paROWGmOHoc",
        "outputId": "5f374f8c-acc5-4d65-ec53-38c62a5917f3"
      },
      "execution_count": 15,
      "outputs": [
        {
          "output_type": "display_data",
          "data": {
            "text/plain": [
              "<Figure size 640x480 with 2 Axes>"
            ],
            "image/png": "[encoded data removed]"
          },
          "metadata": {}
        }
      ]
    },
    {
      "cell_type": "markdown",
      "source": [
        "# 新招"
      ],
      "metadata": {
        "id": "iefw_vih3k5W"
      }
    },
    {
      "cell_type": "code",
      "source": [],
      "metadata": {
        "id": "Pt_xF18L3m0g"
      },
      "execution_count": null,
      "outputs": []
    }
  ]
}