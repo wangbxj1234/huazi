{
  "nbformat": 4,
  "nbformat_minor": 0,
  "metadata": {
    "colab": {
      "provenance": [],
      "gpuType": "T4",
      "authorship_tag": "ABX9TyPsXeMtAywvh6vRW6C4UZL6",
      "include_colab_link": true
    },
    "kernelspec": {
      "name": "python3",
      "display_name": "Python 3"
    },
    "language_info": {
      "name": "python"
    },
    "accelerator": "GPU"
  },
  "cells": [
    {
      "cell_type": "markdown",
      "metadata": {
        "id": "view-in-github",
        "colab_type": "text"
      },
      "source": [
        "<a href=\"https://colab.research.google.com/github/wangbxj1234/huazi/blob/main/units_ocr.ipynb\" target=\"_parent\"><img src=\"https://colab.research.google.com/assets/colab-badge.svg\" alt=\"Open In Colab\"/></a>"
      ]
    },
    {
      "cell_type": "markdown",
      "source": [
        "# 准备工作"
      ],
      "metadata": {
        "id": "fu_ijf75npg0"
      }
    },
    {
      "cell_type": "code",
      "execution_count": 1,
      "metadata": {
        "colab": {
          "base_uri": "https://localhost:8080/"
        },
        "id": "LyeUWB77imjE",
        "outputId": "7901ca16-fef1-47f9-eb48-8658e14500a0"
      },
      "outputs": [
        {
          "output_type": "stream",
          "name": "stdout",
          "text": [
            "Cloning into 'units'...\n",
            "remote: Enumerating objects: 112, done.\u001b[K\n",
            "remote: Counting objects: 100% (13/13), done.\u001b[K\n",
            "remote: Compressing objects: 100% (8/8), done.\u001b[K\n",
            "remote: Total 112 (delta 5), reused 5 (delta 5), pack-reused 99 (from 1)\u001b[K\n",
            "Receiving objects: 100% (112/112), 27.84 MiB | 21.98 MiB/s, done.\n",
            "Resolving deltas: 100% (10/10), done.\n"
          ]
        }
      ],
      "source": [
        "!git clone https://github.com/clovaai/units.git"
      ]
    },
    {
      "cell_type": "code",
      "source": [
        "%cd /content/units\n",
        "!pip install -r requirements.txt"
      ],
      "metadata": {
        "colab": {
          "base_uri": "https://localhost:8080/"
        },
        "id": "vISTvWePi5dd",
        "outputId": "50b3634c-7aeb-43bb-b013-26a086f17563"
      },
      "execution_count": 2,
      "outputs": [
        {
          "output_type": "stream",
          "name": "stdout",
          "text": [
            "/content/units\n",
            "Collecting torch==1.11.0 (from -r requirements.txt (line 1))\n",
            "  Downloading torch-1.11.0-cp310-cp310-manylinux1_x86_64.whl.metadata (24 kB)\n",
            "\u001b[31mERROR: Ignored the following yanked versions: 0.1.6, 0.1.7, 0.1.8, 0.1.9, 0.2.0, 0.2.1, 0.2.2, 0.2.2.post2, 0.2.2.post3, 0.15.0\u001b[0m\u001b[31m\n",
            "\u001b[0m\u001b[31mERROR: Could not find a version that satisfies the requirement torchvision==0.11.0 (from versions: 0.12.0, 0.13.0, 0.13.1, 0.14.0, 0.14.1, 0.15.1, 0.15.2, 0.16.0, 0.16.1, 0.16.2, 0.17.0, 0.17.1, 0.17.2, 0.18.0, 0.18.1, 0.19.0, 0.19.1, 0.20.0, 0.20.1)\u001b[0m\u001b[31m\n",
            "\u001b[0m\u001b[31mERROR: No matching distribution found for torchvision==0.11.0\u001b[0m\u001b[31m\n",
            "\u001b[0m"
          ]
        }
      ]
    },
    {
      "cell_type": "code",
      "source": [
        "!pip install torchvision==0.12.0"
      ],
      "metadata": {
        "colab": {
          "base_uri": "https://localhost:8080/"
        },
        "id": "y1r-KOrz9J6T",
        "outputId": "bcd69015-8bff-4472-d363-ee8ee287e70a",
        "collapsed": true
      },
      "execution_count": 3,
      "outputs": [
        {
          "output_type": "stream",
          "name": "stdout",
          "text": [
            "Collecting torchvision==0.12.0\n",
            "  Downloading torchvision-0.12.0-cp310-cp310-manylinux1_x86_64.whl.metadata (10 kB)\n",
            "Requirement already satisfied: typing-extensions in /usr/local/lib/python3.10/dist-packages (from torchvision==0.12.0) (4.12.2)\n",
            "Requirement already satisfied: numpy in /usr/local/lib/python3.10/dist-packages (from torchvision==0.12.0) (1.26.4)\n",
            "Requirement already satisfied: requests in /usr/local/lib/python3.10/dist-packages (from torchvision==0.12.0) (2.32.3)\n",
            "Collecting torch==1.11.0 (from torchvision==0.12.0)\n",
            "  Using cached torch-1.11.0-cp310-cp310-manylinux1_x86_64.whl.metadata (24 kB)\n",
            "Requirement already satisfied: pillow!=8.3.*,>=5.3.0 in /usr/local/lib/python3.10/dist-packages (from torchvision==0.12.0) (10.4.0)\n",
            "Requirement already satisfied: charset-normalizer<4,>=2 in /usr/local/lib/python3.10/dist-packages (from requests->torchvision==0.12.0) (3.4.0)\n",
            "Requirement already satisfied: idna<4,>=2.5 in /usr/local/lib/python3.10/dist-packages (from requests->torchvision==0.12.0) (3.10)\n",
            "Requirement already satisfied: urllib3<3,>=1.21.1 in /usr/local/lib/python3.10/dist-packages (from requests->torchvision==0.12.0) (2.2.3)\n",
            "Requirement already satisfied: certifi>=2017.4.17 in /usr/local/lib/python3.10/dist-packages (from requests->torchvision==0.12.0) (2024.8.30)\n",
            "Downloading torchvision-0.12.0-cp310-cp310-manylinux1_x86_64.whl (21.0 MB)\n",
            "\u001b[2K   \u001b[90m━━━━━━━━━━━━━━━━━━━━━━━━━━━━━━━━━━━━━━━━\u001b[0m \u001b[32m21.0/21.0 MB\u001b[0m \u001b[31m18.1 MB/s\u001b[0m eta \u001b[36m0:00:00\u001b[0m\n",
            "\u001b[?25hDownloading torch-1.11.0-cp310-cp310-manylinux1_x86_64.whl (750.6 MB)\n",
            "\u001b[2K   \u001b[90m━━━━━━━━━━━━━━━━━━━━━━━━━━━━━━━━━━━━━━━━\u001b[0m \u001b[32m750.6/750.6 MB\u001b[0m \u001b[31m1.6 MB/s\u001b[0m eta \u001b[36m0:00:00\u001b[0m\n",
            "\u001b[?25hInstalling collected packages: torch, torchvision\n",
            "  Attempting uninstall: torch\n",
            "    Found existing installation: torch 2.5.0+cu121\n",
            "    Uninstalling torch-2.5.0+cu121:\n",
            "      Successfully uninstalled torch-2.5.0+cu121\n",
            "  Attempting uninstall: torchvision\n",
            "    Found existing installation: torchvision 0.20.0+cu121\n",
            "    Uninstalling torchvision-0.20.0+cu121:\n",
            "      Successfully uninstalled torchvision-0.20.0+cu121\n",
            "\u001b[31mERROR: pip's dependency resolver does not currently take into account all the packages that are installed. This behaviour is the source of the following dependency conflicts.\n",
            "peft 0.13.2 requires torch>=1.13.0, but you have torch 1.11.0 which is incompatible.\n",
            "torchaudio 2.5.0+cu121 requires torch==2.5.0, but you have torch 1.11.0 which is incompatible.\u001b[0m\u001b[31m\n",
            "\u001b[0mSuccessfully installed torch-1.11.0 torchvision-0.12.0\n"
          ]
        }
      ]
    },
    {
      "cell_type": "code",
      "source": [
        "!pip install pydantic==1.9.0 tensorfn==0.1.23 opencv-python==4.6.0.66 lmdb==1.3.0 Shapely==1.8.1.post1 Pillow==9.0.1 black==23.3.0 numpy==1.21.4 rapidfuzz==2.9.0 Polygon3==3.0.9.1 editdistance==0.6.2\n"
      ],
      "metadata": {
        "colab": {
          "base_uri": "https://localhost:8080/",
          "height": 1000
        },
        "id": "_gP0mphJ9aBR",
        "outputId": "3e776999-ae41-442f-b0c1-526dba5fce11"
      },
      "execution_count": 4,
      "outputs": [
        {
          "output_type": "stream",
          "name": "stdout",
          "text": [
            "Collecting pydantic==1.9.0\n",
            "  Downloading pydantic-1.9.0-cp310-cp310-manylinux_2_17_x86_64.manylinux2014_x86_64.whl.metadata (121 kB)\n",
            "\u001b[?25l     \u001b[90m━━━━━━━━━━━━━━━━━━━━━━━━━━━━━━━━━━━━━━━━\u001b[0m \u001b[32m0.0/121.8 kB\u001b[0m \u001b[31m?\u001b[0m eta \u001b[36m-:--:--\u001b[0m\r\u001b[2K     \u001b[91m━━━━━━━━━━━━━━━━━━━━━━━━━━━━━━━━━━━━━\u001b[0m\u001b[90m╺\u001b[0m\u001b[90m━━\u001b[0m \u001b[32m112.6/121.8 kB\u001b[0m \u001b[31m4.1 MB/s\u001b[0m eta \u001b[36m0:00:01\u001b[0m\r\u001b[2K     \u001b[90m━━━━━━━━━━━━━━━━━━━━━━━━━━━━━━━━━━━━━━━━\u001b[0m \u001b[32m121.8/121.8 kB\u001b[0m \u001b[31m3.2 MB/s\u001b[0m eta \u001b[36m0:00:00\u001b[0m\n",
            "\u001b[?25hCollecting tensorfn==0.1.23\n",
            "  Downloading tensorfn-0.1.23-py3-none-any.whl.metadata (441 bytes)\n",
            "Collecting opencv-python==4.6.0.66\n",
            "  Downloading opencv_python-4.6.0.66-cp36-abi3-manylinux_2_17_x86_64.manylinux2014_x86_64.whl.metadata (18 kB)\n",
            "Collecting lmdb==1.3.0\n",
            "  Downloading lmdb-1.3.0-cp310-cp310-manylinux_2_12_x86_64.manylinux2010_x86_64.whl.metadata (1.1 kB)\n",
            "Collecting Shapely==1.8.1.post1\n",
            "  Downloading Shapely-1.8.1.post1-cp310-cp310-manylinux_2_12_x86_64.manylinux2010_x86_64.whl.metadata (41 kB)\n",
            "\u001b[2K     \u001b[90m━━━━━━━━━━━━━━━━━━━━━━━━━━━━━━━━━━━━━━━━\u001b[0m \u001b[32m41.3/41.3 kB\u001b[0m \u001b[31m3.6 MB/s\u001b[0m eta \u001b[36m0:00:00\u001b[0m\n",
            "\u001b[?25hCollecting Pillow==9.0.1\n",
            "  Downloading Pillow-9.0.1-cp310-cp310-manylinux_2_17_x86_64.manylinux2014_x86_64.whl.metadata (7.6 kB)\n",
            "Collecting black==23.3.0\n",
            "  Downloading black-23.3.0-cp310-cp310-manylinux_2_17_x86_64.manylinux2014_x86_64.whl.metadata (61 kB)\n",
            "\u001b[2K     \u001b[90m━━━━━━━━━━━━━━━━━━━━━━━━━━━━━━━━━━━━━━━━\u001b[0m \u001b[32m61.0/61.0 kB\u001b[0m \u001b[31m5.6 MB/s\u001b[0m eta \u001b[36m0:00:00\u001b[0m\n",
            "\u001b[?25hCollecting numpy==1.21.4\n",
            "  Downloading numpy-1.21.4-cp310-cp310-manylinux_2_17_x86_64.manylinux2014_x86_64.whl.metadata (2.1 kB)\n",
            "Collecting rapidfuzz==2.9.0\n",
            "  Downloading rapidfuzz-2.9.0-cp310-cp310-manylinux_2_17_x86_64.manylinux2014_x86_64.whl.metadata (9.1 kB)\n",
            "Collecting Polygon3==3.0.9.1\n",
            "  Downloading Polygon3-3.0.9.1.tar.gz (39 kB)\n",
            "  Preparing metadata (setup.py) ... \u001b[?25l\u001b[?25hdone\n",
            "Collecting editdistance==0.6.2\n",
            "  Downloading editdistance-0.6.2-cp310-cp310-manylinux_2_17_x86_64.manylinux2014_x86_64.whl.metadata (4.8 kB)\n",
            "Requirement already satisfied: typing-extensions>=3.7.4.3 in /usr/local/lib/python3.10/dist-packages (from pydantic==1.9.0) (4.12.2)\n",
            "Requirement already satisfied: torch>=1.1 in /usr/local/lib/python3.10/dist-packages (from tensorfn==0.1.23) (1.11.0)\n",
            "Collecting pyhocon>=0.3.54 (from tensorfn==0.1.23)\n",
            "  Downloading pyhocon-0.3.61-py3-none-any.whl.metadata (1.2 kB)\n",
            "Requirement already satisfied: termcolor in /usr/local/lib/python3.10/dist-packages (from tensorfn==0.1.23) (2.5.0)\n",
            "Requirement already satisfied: tabulate in /usr/local/lib/python3.10/dist-packages (from tensorfn==0.1.23) (0.9.0)\n",
            "Collecting boto3 (from tensorfn==0.1.23)\n",
            "  Downloading boto3-1.35.52-py3-none-any.whl.metadata (6.7 kB)\n",
            "Requirement already satisfied: rich in /usr/local/lib/python3.10/dist-packages (from tensorfn==0.1.23) (13.9.3)\n",
            "Requirement already satisfied: click>=8.0.0 in /usr/local/lib/python3.10/dist-packages (from black==23.3.0) (8.1.7)\n",
            "Collecting mypy-extensions>=0.4.3 (from black==23.3.0)\n",
            "  Downloading mypy_extensions-1.0.0-py3-none-any.whl.metadata (1.1 kB)\n",
            "Requirement already satisfied: packaging>=22.0 in /usr/local/lib/python3.10/dist-packages (from black==23.3.0) (24.1)\n",
            "Collecting pathspec>=0.9.0 (from black==23.3.0)\n",
            "  Downloading pathspec-0.12.1-py3-none-any.whl.metadata (21 kB)\n",
            "Requirement already satisfied: platformdirs>=2 in /usr/local/lib/python3.10/dist-packages (from black==23.3.0) (4.3.6)\n",
            "Requirement already satisfied: tomli>=1.1.0 in /usr/local/lib/python3.10/dist-packages (from black==23.3.0) (2.0.2)\n",
            "Collecting jarowinkler<2.0.0,>=1.2.0 (from rapidfuzz==2.9.0)\n",
            "  Downloading jarowinkler-1.2.3-cp310-cp310-manylinux_2_17_x86_64.manylinux2014_x86_64.whl.metadata (5.3 kB)\n",
            "Requirement already satisfied: pyparsing<4,>=2 in /usr/local/lib/python3.10/dist-packages (from pyhocon>=0.3.54->tensorfn==0.1.23) (3.2.0)\n",
            "Collecting botocore<1.36.0,>=1.35.52 (from boto3->tensorfn==0.1.23)\n",
            "  Downloading botocore-1.35.52-py3-none-any.whl.metadata (5.7 kB)\n",
            "Collecting jmespath<2.0.0,>=0.7.1 (from boto3->tensorfn==0.1.23)\n",
            "  Downloading jmespath-1.0.1-py3-none-any.whl.metadata (7.6 kB)\n",
            "Collecting s3transfer<0.11.0,>=0.10.0 (from boto3->tensorfn==0.1.23)\n",
            "  Downloading s3transfer-0.10.3-py3-none-any.whl.metadata (1.7 kB)\n",
            "Requirement already satisfied: markdown-it-py>=2.2.0 in /usr/local/lib/python3.10/dist-packages (from rich->tensorfn==0.1.23) (3.0.0)\n",
            "Requirement already satisfied: pygments<3.0.0,>=2.13.0 in /usr/local/lib/python3.10/dist-packages (from rich->tensorfn==0.1.23) (2.18.0)\n",
            "Requirement already satisfied: python-dateutil<3.0.0,>=2.1 in /usr/local/lib/python3.10/dist-packages (from botocore<1.36.0,>=1.35.52->boto3->tensorfn==0.1.23) (2.8.2)\n",
            "Requirement already satisfied: urllib3!=2.2.0,<3,>=1.25.4 in /usr/local/lib/python3.10/dist-packages (from botocore<1.36.0,>=1.35.52->boto3->tensorfn==0.1.23) (2.2.3)\n",
            "Requirement already satisfied: mdurl~=0.1 in /usr/local/lib/python3.10/dist-packages (from markdown-it-py>=2.2.0->rich->tensorfn==0.1.23) (0.1.2)\n",
            "Requirement already satisfied: six>=1.5 in /usr/local/lib/python3.10/dist-packages (from python-dateutil<3.0.0,>=2.1->botocore<1.36.0,>=1.35.52->boto3->tensorfn==0.1.23) (1.16.0)\n",
            "Downloading pydantic-1.9.0-cp310-cp310-manylinux_2_17_x86_64.manylinux2014_x86_64.whl (12.3 MB)\n",
            "\u001b[2K   \u001b[90m━━━━━━━━━━━━━━━━━━━━━━━━━━━━━━━━━━━━━━━━\u001b[0m \u001b[32m12.3/12.3 MB\u001b[0m \u001b[31m65.5 MB/s\u001b[0m eta \u001b[36m0:00:00\u001b[0m\n",
            "\u001b[?25hDownloading tensorfn-0.1.23-py3-none-any.whl (49 kB)\n",
            "\u001b[2K   \u001b[90m━━━━━━━━━━━━━━━━━━━━━━━━━━━━━━━━━━━━━━━━\u001b[0m \u001b[32m49.7/49.7 kB\u001b[0m \u001b[31m4.5 MB/s\u001b[0m eta \u001b[36m0:00:00\u001b[0m\n",
            "\u001b[?25hDownloading opencv_python-4.6.0.66-cp36-abi3-manylinux_2_17_x86_64.manylinux2014_x86_64.whl (60.9 MB)\n",
            "\u001b[2K   \u001b[90m━━━━━━━━━━━━━━━━━━━━━━━━━━━━━━━━━━━━━━━━\u001b[0m \u001b[32m60.9/60.9 MB\u001b[0m \u001b[31m12.3 MB/s\u001b[0m eta \u001b[36m0:00:00\u001b[0m\n",
            "\u001b[?25hDownloading lmdb-1.3.0-cp310-cp310-manylinux_2_12_x86_64.manylinux2010_x86_64.whl (306 kB)\n",
            "\u001b[2K   \u001b[90m━━━━━━━━━━━━━━━━━━━━━━━━━━━━━━━━━━━━━━━━\u001b[0m \u001b[32m306.5/306.5 kB\u001b[0m \u001b[31m29.2 MB/s\u001b[0m eta \u001b[36m0:00:00\u001b[0m\n",
            "\u001b[?25hDownloading Shapely-1.8.1.post1-cp310-cp310-manylinux_2_12_x86_64.manylinux2010_x86_64.whl (2.0 MB)\n",
            "\u001b[2K   \u001b[90m━━━━━━━━━━━━━━━━━━━━━━━━━━━━━━━━━━━━━━━━\u001b[0m \u001b[32m2.0/2.0 MB\u001b[0m \u001b[31m7.2 MB/s\u001b[0m eta \u001b[36m0:00:00\u001b[0m\n",
            "\u001b[?25hDownloading Pillow-9.0.1-cp310-cp310-manylinux_2_17_x86_64.manylinux2014_x86_64.whl (4.3 MB)\n",
            "\u001b[2K   \u001b[90m━━━━━━━━━━━━━━━━━━━━━━━━━━━━━━━━━━━━━━━━\u001b[0m \u001b[32m4.3/4.3 MB\u001b[0m \u001b[31m76.8 MB/s\u001b[0m eta \u001b[36m0:00:00\u001b[0m\n",
            "\u001b[?25hDownloading black-23.3.0-cp310-cp310-manylinux_2_17_x86_64.manylinux2014_x86_64.whl (1.7 MB)\n",
            "\u001b[2K   \u001b[90m━━━━━━━━━━━━━━━━━━━━━━━━━━━━━━━━━━━━━━━━\u001b[0m \u001b[32m1.7/1.7 MB\u001b[0m \u001b[31m79.8 MB/s\u001b[0m eta \u001b[36m0:00:00\u001b[0m\n",
            "\u001b[?25hDownloading numpy-1.21.4-cp310-cp310-manylinux_2_17_x86_64.manylinux2014_x86_64.whl (15.9 MB)\n",
            "\u001b[2K   \u001b[90m━━━━━━━━━━━━━━━━━━━━━━━━━━━━━━━━━━━━━━━━\u001b[0m \u001b[32m15.9/15.9 MB\u001b[0m \u001b[31m6.4 MB/s\u001b[0m eta \u001b[36m0:00:00\u001b[0m\n",
            "\u001b[?25hDownloading rapidfuzz-2.9.0-cp310-cp310-manylinux_2_17_x86_64.manylinux2014_x86_64.whl (1.6 MB)\n",
            "\u001b[2K   \u001b[90m━━━━━━━━━━━━━━━━━━━━━━━━━━━━━━━━━━━━━━━━\u001b[0m \u001b[32m1.6/1.6 MB\u001b[0m \u001b[31m6.3 MB/s\u001b[0m eta \u001b[36m0:00:00\u001b[0m\n",
            "\u001b[?25hDownloading editdistance-0.6.2-cp310-cp310-manylinux_2_17_x86_64.manylinux2014_x86_64.whl (282 kB)\n",
            "\u001b[2K   \u001b[90m━━━━━━━━━━━━━━━━━━━━━━━━━━━━━━━━━━━━━━━━\u001b[0m \u001b[32m282.6/282.6 kB\u001b[0m \u001b[31m26.9 MB/s\u001b[0m eta \u001b[36m0:00:00\u001b[0m\n",
            "\u001b[?25hDownloading jarowinkler-1.2.3-cp310-cp310-manylinux_2_17_x86_64.manylinux2014_x86_64.whl (114 kB)\n",
            "\u001b[2K   \u001b[90m━━━━━━━━━━━━━━━━━━━━━━━━━━━━━━━━━━━━━━━━\u001b[0m \u001b[32m114.2/114.2 kB\u001b[0m \u001b[31m13.3 MB/s\u001b[0m eta \u001b[36m0:00:00\u001b[0m\n",
            "\u001b[?25hDownloading mypy_extensions-1.0.0-py3-none-any.whl (4.7 kB)\n",
            "Downloading pathspec-0.12.1-py3-none-any.whl (31 kB)\n",
            "Downloading pyhocon-0.3.61-py3-none-any.whl (25 kB)\n",
            "Downloading boto3-1.35.52-py3-none-any.whl (139 kB)\n",
            "\u001b[2K   \u001b[90m━━━━━━━━━━━━━━━━━━━━━━━━━━━━━━━━━━━━━━━━\u001b[0m \u001b[32m139.2/139.2 kB\u001b[0m \u001b[31m15.6 MB/s\u001b[0m eta \u001b[36m0:00:00\u001b[0m\n",
            "\u001b[?25hDownloading botocore-1.35.52-py3-none-any.whl (12.7 MB)\n",
            "\u001b[2K   \u001b[90m━━━━━━━━━━━━━━━━━━━━━━━━━━━━━━━━━━━━━━━━\u001b[0m \u001b[32m12.7/12.7 MB\u001b[0m \u001b[31m96.3 MB/s\u001b[0m eta \u001b[36m0:00:00\u001b[0m\n",
            "\u001b[?25hDownloading jmespath-1.0.1-py3-none-any.whl (20 kB)\n",
            "Downloading s3transfer-0.10.3-py3-none-any.whl (82 kB)\n",
            "\u001b[2K   \u001b[90m━━━━━━━━━━━━━━━━━━━━━━━━━━━━━━━━━━━━━━━━\u001b[0m \u001b[32m82.6/82.6 kB\u001b[0m \u001b[31m9.0 MB/s\u001b[0m eta \u001b[36m0:00:00\u001b[0m\n",
            "\u001b[?25hBuilding wheels for collected packages: Polygon3\n",
            "  Building wheel for Polygon3 (setup.py) ... \u001b[?25l\u001b[?25hdone\n",
            "  Created wheel for Polygon3: filename=Polygon3-3.0.9.1-cp310-cp310-linux_x86_64.whl size=117783 sha256=8d6d48c298fa537591670d830990fdb7f3063a64d416fc8687b21edc52adb115\n",
            "  Stored in directory: /root/.cache/pip/wheels/d8/b7/f6/b4e24f56a1cc9856dca98cc2fdc3915d7649b39b62f3dbca9e\n",
            "Successfully built Polygon3\n",
            "Installing collected packages: Polygon3, lmdb, Shapely, pyhocon, pydantic, Pillow, pathspec, numpy, mypy-extensions, jmespath, jarowinkler, editdistance, rapidfuzz, opencv-python, botocore, black, s3transfer, boto3, tensorfn\n",
            "  Attempting uninstall: Shapely\n",
            "    Found existing installation: shapely 2.0.6\n",
            "    Uninstalling shapely-2.0.6:\n",
            "      Successfully uninstalled shapely-2.0.6\n",
            "  Attempting uninstall: pydantic\n",
            "    Found existing installation: pydantic 2.9.2\n",
            "    Uninstalling pydantic-2.9.2:\n",
            "      Successfully uninstalled pydantic-2.9.2\n",
            "  Attempting uninstall: Pillow\n",
            "    Found existing installation: pillow 10.4.0\n",
            "    Uninstalling pillow-10.4.0:\n",
            "      Successfully uninstalled pillow-10.4.0\n",
            "  Attempting uninstall: numpy\n",
            "    Found existing installation: numpy 1.26.4\n",
            "    Uninstalling numpy-1.26.4:\n",
            "      Successfully uninstalled numpy-1.26.4\n",
            "  Attempting uninstall: editdistance\n",
            "    Found existing installation: editdistance 0.8.1\n",
            "    Uninstalling editdistance-0.8.1:\n",
            "      Successfully uninstalled editdistance-0.8.1\n",
            "  Attempting uninstall: opencv-python\n",
            "    Found existing installation: opencv-python 4.10.0.84\n",
            "    Uninstalling opencv-python-4.10.0.84:\n",
            "      Successfully uninstalled opencv-python-4.10.0.84\n",
            "\u001b[31mERROR: pip's dependency resolver does not currently take into account all the packages that are installed. This behaviour is the source of the following dependency conflicts.\n",
            "albucore 0.0.19 requires numpy>=1.24.4, but you have numpy 1.21.4 which is incompatible.\n",
            "albumentations 1.4.20 requires numpy>=1.24.4, but you have numpy 1.21.4 which is incompatible.\n",
            "albumentations 1.4.20 requires pydantic>=2.7.0, but you have pydantic 1.9.0 which is incompatible.\n",
            "arviz 0.20.0 requires numpy>=1.23.0, but you have numpy 1.21.4 which is incompatible.\n",
            "astropy 6.1.4 requires numpy>=1.23, but you have numpy 1.21.4 which is incompatible.\n",
            "bigframes 1.24.0 requires numpy>=1.24.0, but you have numpy 1.21.4 which is incompatible.\n",
            "chex 0.1.87 requires numpy>=1.24.1, but you have numpy 1.21.4 which is incompatible.\n",
            "contourpy 1.3.0 requires numpy>=1.23, but you have numpy 1.21.4 which is incompatible.\n",
            "cudf-cu12 24.10.1 requires numpy<3.0a0,>=1.23, but you have numpy 1.21.4 which is incompatible.\n",
            "flax 0.8.5 requires numpy>=1.22, but you have numpy 1.21.4 which is incompatible.\n",
            "geopandas 1.0.1 requires numpy>=1.22, but you have numpy 1.21.4 which is incompatible.\n",
            "geopandas 1.0.1 requires shapely>=2.0.0, but you have shapely 1.8.1.post1 which is incompatible.\n",
            "ibis-framework 9.2.0 requires numpy<3,>=1.23.2, but you have numpy 1.21.4 which is incompatible.\n",
            "jax 0.4.33 requires numpy>=1.24, but you have numpy 1.21.4 which is incompatible.\n",
            "jaxlib 0.4.33 requires numpy>=1.24, but you have numpy 1.21.4 which is incompatible.\n",
            "langchain 0.3.4 requires pydantic<3.0.0,>=2.7.4, but you have pydantic 1.9.0 which is incompatible.\n",
            "langchain-core 0.3.13 requires pydantic<3.0.0,>=2.5.2; python_full_version < \"3.12.4\", but you have pydantic 1.9.0 which is incompatible.\n",
            "mizani 0.11.4 requires numpy>=1.23.0, but you have numpy 1.21.4 which is incompatible.\n",
            "numba 0.60.0 requires numpy<2.1,>=1.22, but you have numpy 1.21.4 which is incompatible.\n",
            "numexpr 2.10.1 requires numpy>=1.23.0, but you have numpy 1.21.4 which is incompatible.\n",
            "nx-cugraph-cu12 24.10.0 requires numpy<3.0a0,>=1.23, but you have numpy 1.21.4 which is incompatible.\n",
            "pandas 2.2.2 requires numpy>=1.22.4; python_version < \"3.11\", but you have numpy 1.21.4 which is incompatible.\n",
            "pandas-stubs 2.2.2.240909 requires numpy>=1.23.5, but you have numpy 1.21.4 which is incompatible.\n",
            "peft 0.13.2 requires torch>=1.13.0, but you have torch 1.11.0 which is incompatible.\n",
            "plotnine 0.13.6 requires numpy>=1.23.0, but you have numpy 1.21.4 which is incompatible.\n",
            "pylibraft-cu12 24.10.0 requires numpy<3.0a0,>=1.23, but you have numpy 1.21.4 which is incompatible.\n",
            "rmm-cu12 24.10.0 requires numpy<3.0a0,>=1.23, but you have numpy 1.21.4 which is incompatible.\n",
            "scikit-image 0.24.0 requires numpy>=1.23, but you have numpy 1.21.4 which is incompatible.\n",
            "scikit-image 0.24.0 requires pillow>=9.1, but you have pillow 9.0.1 which is incompatible.\n",
            "scipy 1.13.1 requires numpy<2.3,>=1.22.4, but you have numpy 1.21.4 which is incompatible.\n",
            "statsmodels 0.14.4 requires numpy<3,>=1.22.3, but you have numpy 1.21.4 which is incompatible.\n",
            "tensorflow 2.17.0 requires numpy<2.0.0,>=1.23.5; python_version <= \"3.11\", but you have numpy 1.21.4 which is incompatible.\n",
            "tensorstore 0.1.67 requires numpy>=1.22.0, but you have numpy 1.21.4 which is incompatible.\n",
            "xarray 2024.9.0 requires numpy>=1.24, but you have numpy 1.21.4 which is incompatible.\n",
            "xarray-einstats 0.8.0 requires numpy>=1.23, but you have numpy 1.21.4 which is incompatible.\u001b[0m\u001b[31m\n",
            "\u001b[0mSuccessfully installed Pillow-9.0.1 Polygon3-3.0.9.1 Shapely-1.8.1.post1 black-23.3.0 boto3-1.35.52 botocore-1.35.52 editdistance-0.6.2 jarowinkler-1.2.3 jmespath-1.0.1 lmdb-1.3.0 mypy-extensions-1.0.0 numpy-1.21.4 opencv-python-4.6.0.66 pathspec-0.12.1 pydantic-1.9.0 pyhocon-0.3.61 rapidfuzz-2.9.0 s3transfer-0.10.3 tensorfn-0.1.23\n"
          ]
        },
        {
          "output_type": "display_data",
          "data": {
            "application/vnd.colab-display-data+json": {
              "pip_warning": {
                "packages": [
                  "PIL",
                  "numpy"
                ]
              },
              "id": "743ce346c5394b77be98af6b7376a94b"
            }
          },
          "metadata": {}
        }
      ]
    },
    {
      "cell_type": "markdown",
      "source": [
        "# 到这里会自动弹出重启会话， 重启后，直接继续运行这个单元格，开始下载模型"
      ],
      "metadata": {
        "id": "4N8nJgI0nwl4"
      }
    },
    {
      "cell_type": "code",
      "source": [
        "!gdown --id 1XEBRaEBp3IRnd1P3lkfpVbBIQZIThMF0\n"
      ],
      "metadata": {
        "colab": {
          "base_uri": "https://localhost:8080/"
        },
        "id": "YhtE8MM6jHIN",
        "outputId": "a937b293-b32c-495e-d37f-e4df9fc8020a"
      },
      "execution_count": 1,
      "outputs": [
        {
          "output_type": "stream",
          "name": "stdout",
          "text": [
            "/usr/local/lib/python3.10/dist-packages/gdown/__main__.py:140: FutureWarning: Option `--id` was deprecated in version 4.3.1 and will be removed in 5.0. You don't need to pass it anymore to use a file ID.\n",
            "  warnings.warn(\n",
            "Downloading...\n",
            "From (original): https://drive.google.com/uc?id=1XEBRaEBp3IRnd1P3lkfpVbBIQZIThMF0\n",
            "From (redirected): https://drive.google.com/uc?id=1XEBRaEBp3IRnd1P3lkfpVbBIQZIThMF0&confirm=t&uuid=cd36bcee-3e76-46db-9d32-db711e3b2b7a\n",
            "To: /content/shared.pt\n",
            "100% 1.21G/1.21G [00:17<00:00, 70.2MB/s]\n"
          ]
        }
      ]
    },
    {
      "cell_type": "markdown",
      "source": [
        "#  测试"
      ],
      "metadata": {
        "id": "R9Xeac59lhXT"
      }
    },
    {
      "cell_type": "code",
      "source": [
        "!mv \"/content/units/units\" \"/content/units/script\" #需要移动一下文件位置"
      ],
      "metadata": {
        "id": "qBqGxLMroXUA"
      },
      "execution_count": 2,
      "outputs": []
    },
    {
      "cell_type": "code",
      "source": [
        "%cd /content/units\n",
        "!python script/demo.py --conf configs/finetune.py --ckpt /content/shared.pt"
      ],
      "metadata": {
        "colab": {
          "base_uri": "https://localhost:8080/"
        },
        "id": "0Ms1L8Q6jhBr",
        "outputId": "d8f3e99b-9a82-4323-f2e0-65974d99adc6"
      },
      "execution_count": 4,
      "outputs": [
        {
          "output_type": "stream",
          "name": "stdout",
          "text": [
            "/content/units\n",
            "{'checker': {'reporter': [{'type': 'logger'},\n",
            "                          {'group': None,\n",
            "                           'id': None,\n",
            "                           'name': 'finetune',\n",
            "                           'notes': None,\n",
            "                           'project': 'units',\n",
            "                           'resume': None,\n",
            "                           'tags': None,\n",
            "                           'type': 'wandb'}],\n",
            "             'storage': [{'keep': -1, 'path': 'checkpoints', 'type': 'local'}]},\n",
            " 'ckpt': None,\n",
            " 'dist_url': None,\n",
            " 'distributed': None,\n",
            " 'evaluate': {'datasources': {'datasource': {'__fn': 'units.datasource.LMDBSource'},\n",
            "                              'path': 'train_datasets',\n",
            "                              'sources': ['totaltext.poly_test.lmdb',\n",
            "                                          'icdar15_test.lmdb']},\n",
            "              'eval_freq': 5000,\n",
            "              'eval_metrics': [],\n",
            "              'eval_metrics_option': None,\n",
            "              'skip_evaluate': True,\n",
            "              'transform': [{'__args': [1920],\n",
            "                             '__init': 'units.transform.Resize'},\n",
            "                            {'__args': [[1920, 1920]],\n",
            "                             '__init': 'units.augment.ExpandPAD'},\n",
            "                            {'__init': 'units.transform.ToTensor'},\n",
            "                            {'__init': 'units.transform.Normalize'}]},\n",
            " 'finetune': True,\n",
            " 'launch_config': None,\n",
            " 'log_freq': 10,\n",
            " 'logger': 'rich',\n",
            " 'machine_rank': None,\n",
            " 'model': {'__args': [1024,\n",
            "                      256,\n",
            "                      {'__args': [{'__init': 'units.models.backbones.swin_transformer_b',\n",
            "                                   'pretrained': True},\n",
            "                                  [32],\n",
            "                                  True],\n",
            "                       '__init': 'units.models.VisionTransformer'},\n",
            "                      {'__args': [256,\n",
            "                                  25,\n",
            "                                  {'__args': [[{'__args': [256, 8],\n",
            "                                                '__init': 'units.models.transformer.TransformerDecoderLayer',\n",
            "                                                'n_experts': 2},\n",
            "                                               {'__args': [256, 8],\n",
            "                                                '__init': 'units.models.transformer.TransformerDecoderLayer',\n",
            "                                                'n_experts': 2},\n",
            "                                               {'__args': [256, 8],\n",
            "                                                '__init': 'units.models.transformer.TransformerDecoderLayer',\n",
            "                                                'n_experts': 2},\n",
            "                                               {'__args': [256, 8],\n",
            "                                                '__init': 'units.models.transformer.TransformerDecoderLayer',\n",
            "                                                'n_experts': 2},\n",
            "                                               {'__args': [256, 8],\n",
            "                                                '__init': 'units.models.transformer.TransformerDecoderLayer',\n",
            "                                                'n_experts': 2},\n",
            "                                               {'__args': [256, 8],\n",
            "                                                '__init': 'units.models.transformer.TransformerDecoderLayer',\n",
            "                                                'n_experts': 2},\n",
            "                                               {'__args': [256, 8],\n",
            "                                                '__init': 'units.models.transformer.TransformerDecoderLayer',\n",
            "                                                'n_experts': 2},\n",
            "                                               {'__args': [256, 8],\n",
            "                                                '__init': 'units.models.transformer.TransformerDecoderLayer',\n",
            "                                                'n_experts': 2}]],\n",
            "                                   '__init': 'units.models.transformer.TransformerDecoder',\n",
            "                                   'autoregressive': True},\n",
            "                                  {'__init': 'torch.nn.CrossEntropyLoss',\n",
            "                                   'ignore_index': -100},\n",
            "                                  100,\n",
            "                                  1024,\n",
            "                                  <units.tokenizer.UnitsTokenizer object at 0x7efdbb169930>],\n",
            "                       '__init': 'units.models.UnitsDecoder',\n",
            "                       'coord_order': 'xy',\n",
            "                       'detect_type': 'quad',\n",
            "                       'fixed_text_len': True,\n",
            "                       'iterative_decoding': True,\n",
            "                       'prompt': 'point'}],\n",
            "           '__init': 'units.models.Units',\n",
            "           'wo_source_pos_encod': True},\n",
            " 'n_gpu': None,\n",
            " 'n_machine': None,\n",
            " 'training': {'clip_grad': 0.1,\n",
            "              'datasources': {'datasource': {'__fn': 'units.datasource.LMDBSource'},\n",
            "                              'path': 'train_datasets',\n",
            "                              'sources': [('synthtext150k.poly.part1_train.lmdb',\n",
            "                                           1.0),\n",
            "                                          ('synthtext150k.poly.part2_train.lmdb',\n",
            "                                           1.0),\n",
            "                                          ('totaltext.poly_train.lmdb', 2.0),\n",
            "                                          ('icdar13_train.lmdb', 1.0),\n",
            "                                          ('icdar15_train.lmdb', 2.0),\n",
            "                                          ('hiertext_train.lmdb', 1.0),\n",
            "                                          ('textocr_train.lmdb', 2.0),\n",
            "                                          ('textocr.poly_train.lmdb', 2.0)]},\n",
            "              'img_multiple': 32,\n",
            "              'loader': {'batch_size': 16,\n",
            "                         'drop_last': False,\n",
            "                         'num_workers': 4,\n",
            "                         'pin_memory': False,\n",
            "                         'shuffle': True,\n",
            "                         'timeout': 0},\n",
            "              'mappers': [{'__args': [<units.tokenizer.UnitsTokenizer object at 0x7efdbb169930>,\n",
            "                                      25],\n",
            "                           '__init': 'units.models.UnitsMapper',\n",
            "                           'all_annot_change_prob': 0.3,\n",
            "                           'all_unks_remove': False,\n",
            "                           'coord_order': 'xy',\n",
            "                           'dcs_inputs': True,\n",
            "                           'decoder_length': 1024,\n",
            "                           'fixed_text_len': True,\n",
            "                           'ignore_idx': -100,\n",
            "                           'iou_filtering': False,\n",
            "                           'mixed_annot_change_prob': 0.0,\n",
            "                           'n_object': 100,\n",
            "                           'prompt': 'point'}],\n",
            "              'mixed_precision': False,\n",
            "              'n_iter': 120000,\n",
            "              'optimizer': {'amsgrad': False,\n",
            "                            'betas': (0.9, 0.999),\n",
            "                            'eps': 1e-08,\n",
            "                            'lr': 0.00012,\n",
            "                            'type': 'adamw',\n",
            "                            'weight_decay': 0},\n",
            "              'resume_ckpt_freq': 100,\n",
            "              'scheduler': {'decay': ['linear', 'cos'],\n",
            "                            'final_multiplier': 1e-05,\n",
            "                            'initial_multiplier': 1e-05,\n",
            "                            'lr': 0.00012,\n",
            "                            'n_iter': 120001,\n",
            "                            'plateau': 0,\n",
            "                            'type': 'cycle',\n",
            "                            'warmup': 10000},\n",
            "              'transform': [{'__args': [[[{'__args': [-45, 45],\n",
            "                                           '__init': 'units.augment.RandomRotate'},\n",
            "                                          0.333]]],\n",
            "                             '__init': 'units.augment.RandomSelect'},\n",
            "                            {'__args': [1.0, 1.0, [1920, 1920]],\n",
            "                             '__init': 'units.augment.RandomResizeScale'},\n",
            "                            {'__args': [[1920, 1920]],\n",
            "                             '__init': 'units.augment.ExpandPAD'},\n",
            "                            {'__args': [{'__args': [0.4, 0.4, 0.2, 0.1],\n",
            "                                         '__init': 'units.augment.ColorJitter'},\n",
            "                                        0.8],\n",
            "                             '__init': 'units.augment.RandomApply'},\n",
            "                            {'__args': [{'__init': 'units.transform.Grayscale'},\n",
            "                                        0.3],\n",
            "                             '__init': 'units.augment.RandomApply'},\n",
            "                            {'__args': [[[{'__init': 'units.augment.RandomGaussianBlur'},\n",
            "                                          0.3],\n",
            "                                         [{'__init': 'units.transform.EdgeEnhance'},\n",
            "                                          0.1]]],\n",
            "                             '__init': 'units.augment.RandomSelect'},\n",
            "                            {'__init': 'units.transform.ToTensor'},\n",
            "                            {'__init': 'units.transform.Normalize'}],\n",
            "              'val_loader': {'batch_size': 16,\n",
            "                             'drop_last': False,\n",
            "                             'num_workers': 4,\n",
            "                             'pin_memory': False,\n",
            "                             'shuffle': False,\n",
            "                             'timeout': 0},\n",
            "              'wd_skip_fn': 'vit',\n",
            "              'weight_decay': 0.0001}}\n",
            "/usr/local/lib/python3.10/dist-packages/torch/functional.py:568: UserWarning: torch.meshgrid: in an upcoming release, it will be required to pass the indexing argument. (Triggered internally at  ../aten/src/ATen/native/TensorShape.cpp:2228.)\n",
            "  return _VF.meshgrid(tensors, **kwargs)  # type: ignore[attr-defined]\n",
            "_IncompatibleKeys(missing_keys=['norm0.weight', 'norm0.bias', 'norm1.weight', 'norm1.bias', 'norm2.weight', 'norm2.bias', 'norm3.weight', 'norm3.bias'], unexpected_keys=['norm.weight', 'norm.bias', 'head.weight', 'head.bias', 'layers.0.blocks.1.attn_mask', 'layers.1.blocks.1.attn_mask', 'layers.2.blocks.1.attn_mask', 'layers.2.blocks.3.attn_mask', 'layers.2.blocks.5.attn_mask', 'layers.2.blocks.7.attn_mask', 'layers.2.blocks.9.attn_mask', 'layers.2.blocks.11.attn_mask', 'layers.2.blocks.13.attn_mask', 'layers.2.blocks.15.attn_mask', 'layers.2.blocks.17.attn_mask'])\n"
          ]
        }
      ]
    },
    {
      "cell_type": "markdown",
      "source": [
        "#"
      ],
      "metadata": {
        "id": "sZdXz6CCvN65"
      }
    }
  ]
}